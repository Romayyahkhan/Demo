{
 "cells": [
  {
   "cell_type": "markdown",
   "id": "fa4eb5ec-f1b0-4a6b-8508-60ae69dde8db",
   "metadata": {},
   "source": [
    "# \"My Jupyter Notebook on IBM Watson Studio\""
   ]
  },
  {
   "cell_type": "markdown",
   "id": "30449be4-45a9-40d8-8046-c4d86ea06fd4",
   "metadata": {},
   "source": [
    "# Romayyah\n",
    "Student"
   ]
  },
  {
   "cell_type": "markdown",
   "id": "d2c75e6b-ac7f-49bc-9e2f-a9146d131e66",
   "metadata": {},
   "source": [
    "*I am interested in data science because of the growing demand and developing field.*"
   ]
  },
  {
   "cell_type": "markdown",
   "id": "6c6c43de-79c7-4780-863b-5f964499d062",
   "metadata": {},
   "source": [
    "### The following code is for finding Age"
   ]
  },
  {
   "cell_type": "code",
   "execution_count": 2,
   "id": "c84671c6-117c-45ac-ae0d-4343718906ae",
   "metadata": {},
   "outputs": [
    {
     "name": "stdin",
     "output_type": "stream",
     "text": [
      "Enter your DOB 2003\n"
     ]
    },
    {
     "name": "stdout",
     "output_type": "stream",
     "text": [
      "Your age is 20\n"
     ]
    }
   ],
   "source": [
    "import datetime\n",
    "\n",
    "DOB = (input(\"Enter your DOB\"))\n",
    "current_year = datetime.datetime.now().year\n",
    "final_age = current_year-int(DOB)\n",
    "print(\"Your age is {}\".format(final_age))"
   ]
  },
  {
   "cell_type": "markdown",
   "id": "84f58e0e-bf04-4647-b857-7468aec00005",
   "metadata": {},
   "source": [
    "- import datetime python library\n",
    "- Enter your age\n",
    "- current year will be minus from your DOB\n",
    "- Will print your Age"
   ]
  },
  {
   "cell_type": "markdown",
   "id": "95d99495-7b64-482a-b310-ce565470e993",
   "metadata": {},
   "source": [
    "[ibm](www.ibm.com)"
   ]
  },
  {
   "cell_type": "code",
   "execution_count": null,
   "id": "6b05f6a1-190c-4577-bd11-0b5ecda6c96e",
   "metadata": {},
   "outputs": [],
   "source": []
  }
 ],
 "metadata": {
  "kernelspec": {
   "display_name": "Python",
   "language": "python",
   "name": "conda-env-python-py"
  },
  "language_info": {
   "codemirror_mode": {
    "name": "ipython",
    "version": 3
   },
   "file_extension": ".py",
   "mimetype": "text/x-python",
   "name": "python",
   "nbconvert_exporter": "python",
   "pygments_lexer": "ipython3",
   "version": "3.7.12"
  }
 },
 "nbformat": 4,
 "nbformat_minor": 5
}
